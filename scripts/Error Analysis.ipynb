{
 "cells": [
  {
   "cell_type": "code",
   "execution_count": 1,
   "metadata": {
    "collapsed": true
   },
   "outputs": [],
   "source": [
    "import copy\n",
    "import csv\n",
    "import datetime\n",
    "import math\n",
    "import os\n",
    "import statistics\n",
    "\n",
    "from collections import defaultdict\n",
    "\n",
    "%matplotlib inline\n",
    "import matplotlib.pyplot as plt\n",
    "plt.style.use('seaborn-whitegrid')\n",
    "import numpy as np\n",
    "\n",
    "from IPython import display"
   ]
  },
  {
   "cell_type": "markdown",
   "metadata": {},
   "source": [
    "# Load Data"
   ]
  },
  {
   "cell_type": "code",
   "execution_count": 2,
   "metadata": {},
   "outputs": [
    {
     "name": "stdout",
     "output_type": "stream",
     "text": [
      "hand_log1542048814863.csv 0:01:04.768000 2018-11-12 10:53:34.890000 2018-11-12 10:54:39.658000\n",
      "hand_log1542048995151.csv 0:00:20.730000 2018-11-12 10:56:35.181000 2018-11-12 10:56:55.911000\n",
      "hand_log1542049250286.csv 0:02:07.365000 2018-11-12 11:00:50.321000 2018-11-12 11:02:57.686000\n",
      "hand_log1542049392458.csv 0:02:06.582000 2018-11-12 11:03:12.496000 2018-11-12 11:05:19.078000\n",
      "hand_log1542049530393.csv 0:02:40.014000 2018-11-12 11:05:30.433000 2018-11-12 11:08:10.447000\n",
      "hand_log1542049693653.csv 0:02:02.406000 2018-11-12 11:08:13.696000 2018-11-12 11:10:16.102000\n",
      "hand_log1542049895342.csv 0:00:25.061000 2018-11-12 11:11:35.385000 2018-11-12 11:12:00.446000\n",
      "hand_log1542050067354.csv 0:00:20.589000 2018-11-12 11:14:27.396000 2018-11-12 11:14:47.985000\n",
      "hand_log1542050109195.csv 0:00:36.023000 2018-11-12 11:15:09.235000 2018-11-12 11:15:45.258000\n",
      "hand_log1542050233041.csv 0:00:32.603000 2018-11-12 11:17:13.084000 2018-11-12 11:17:45.687000\n",
      "hand_log1542050419916.csv 0:01:36.479000 2018-11-12 11:20:19.958000 2018-11-12 11:21:56.437000\n",
      "hand_log1542050645769.csv 0:01:33.631000 2018-11-12 11:24:05.809000 2018-11-12 11:25:39.440000\n",
      "hand_log1542050742928.csv 0:00:44.283000 2018-11-12 11:25:42.965000 2018-11-12 11:26:27.248000\n",
      "hand_log1542050799154.csv 0:00:31.922000 2018-11-12 11:26:39.198000 2018-11-12 11:27:11.120000\n",
      "hand_log1542050875206.csv 0:01:27.392000 2018-11-12 11:27:55.246000 2018-11-12 11:29:22.638000\n",
      "hand_log1542051161378.csv 0:04:06.007000 2018-11-12 11:32:41.431000 2018-11-12 11:36:47.438000\n",
      "hand_log1542051438870.csv 0:03:28.564000 2018-11-12 11:37:18.919000 2018-11-12 11:40:47.483000\n",
      "hand_log1542051651137.csv 0:00:26.262000 2018-11-12 11:40:51.190000 2018-11-12 11:41:17.452000\n",
      "hand_log1542051953520.csv 0:00:07.370000 2018-11-12 11:45:53.557000 2018-11-12 11:46:00.927000\n",
      "hand_log1542052326544.csv 0:00:28.571000 2018-11-12 11:52:06.586000 2018-11-12 11:52:35.157000\n",
      "hand_log1542052358232.csv 0:00:15.400000 2018-11-12 11:52:38.276000 2018-11-12 11:52:53.676000\n",
      "hand_log1542052403739.csv 0:00:34.163000 2018-11-12 11:53:23.780000 2018-11-12 11:53:57.943000\n",
      "hand_log1542052488517.csv 0:00:47.925000 2018-11-12 11:54:48.566000 2018-11-12 11:55:36.491000\n",
      "hand_log1542052621120.csv 0:01:55.169000 2018-11-12 11:57:01.160000 2018-11-12 11:58:56.329000\n",
      "hand_log1542052755313.csv 0:01:50.864000 2018-11-12 11:59:15.354000 2018-11-12 12:01:06.218000\n",
      "hand_log1542052879744.csv 0:00:25.526000 2018-11-12 12:01:19.786000 2018-11-12 12:01:45.312000\n",
      "hand_log1542052911633.csv 0:00:16.624000 2018-11-12 12:01:51.676000 2018-11-12 12:02:08.300000\n",
      "hand_log1542052933559.csv 0:00:57.690000 2018-11-12 12:02:13.600000 2018-11-12 12:03:11.290000\n",
      "hand_log1542053013940.csv 0:00:47.560000 2018-11-12 12:03:33.984000 2018-11-12 12:04:21.544000\n",
      "hand_log1542053065259.csv 0:00:12.565000 2018-11-12 12:04:25.300000 2018-11-12 12:04:37.865000\n",
      "hand_log1542053088591.csv 0:00:55.096000 2018-11-12 12:04:48.633000 2018-11-12 12:05:43.729000\n",
      "hand_log1542053158533.csv 0:00:11.180000 2018-11-12 12:05:58.575000 2018-11-12 12:06:09.755000\n",
      "hand_log1542053174251.csv 0:00:39.036000 2018-11-12 12:06:14.291000 2018-11-12 12:06:53.327000\n",
      "hand_log1542053219998.csv 0:00:19.489000 2018-11-12 12:07:00.039000 2018-11-12 12:07:19.528000\n",
      "hand_log1542053260642.csv 0:00:13.843000 2018-11-12 12:07:40.681000 2018-11-12 12:07:54.524000\n",
      "hand_log1542053292288.csv 0:00:06.131000 2018-11-12 12:08:12.328000 2018-11-12 12:08:18.459000\n",
      "hand_log1542053322394.csv 0:00:05.177000 2018-11-12 12:08:42.433000 2018-11-12 12:08:47.610000\n",
      "hand_log1542053345169.csv 0:00:44.544000 2018-11-12 12:09:05.213000 2018-11-12 12:09:49.757000\n",
      "hand_log1542053423890.csv 0:00:46.005000 2018-11-12 12:10:23.936000 2018-11-12 12:11:09.941000\n",
      "hand_log1542053506939.csv 0:06:18.956000 2018-11-12 12:11:46.982000 2018-11-12 12:18:05.938000\n",
      "hand_log1542054049716.csv 0:03:31.205000 2018-11-12 12:20:49.764000 2018-11-12 12:24:20.969000\n",
      "hand_log1542054265499.csv 0:00:24.570000 2018-11-12 12:24:25.542000 2018-11-12 12:24:50.112000\n",
      "hand_log1542054752386.csv 0:00:55.912000 2018-11-12 12:32:32.441000 2018-11-12 12:33:28.353000\n",
      "hand_log1542054811331.csv 0:01:36.550000 2018-11-12 12:33:31.377000 2018-11-12 12:35:07.927000\n",
      "hand_log1542055045345.csv 0:00:56.680000 2018-11-12 12:37:25.391000 2018-11-12 12:38:22.071000\n",
      "hand_log1542055209351.csv 0:00:13.148000 2018-11-12 12:40:09.397000 2018-11-12 12:40:22.545000\n",
      "hand_log1542055239898.csv 0:00:31.779000 2018-11-12 12:40:39.942000 2018-11-12 12:41:11.721000\n",
      "hand_log1542055275047.csv 0:00:41.310000 2018-11-12 12:41:15.091000 2018-11-12 12:41:56.401000\n",
      "hand_log1542055319679.csv 0:01:05.221000 2018-11-12 12:41:59.727000 2018-11-12 12:43:04.948000\n",
      "hand_log1542055389116.csv 0:00:18.461000 2018-11-12 12:43:09.158000 2018-11-12 12:43:27.619000\n",
      "hand_log1542055878666.csv 0:01:44.233000 2018-11-12 12:51:18.705000 2018-11-12 12:53:02.938000\n",
      "hand_log1542061396925.csv 0:03:44.350000 2018-11-12 14:23:16.960000 2018-11-12 14:27:01.310000\n",
      "hand_log1542061627016.csv 0:13:03.965000 2018-11-12 14:27:07.055000 2018-11-12 14:40:11.020000\n",
      "hand_log1542062454644.csv 0:03:24.344000 2018-11-12 14:40:54.690000 2018-11-12 14:44:19.034000\n",
      "hand_log1542062783395.csv 0:00:12.318000 2018-11-12 14:46:23.440000 2018-11-12 14:46:35.758000\n",
      "hand_log1542062824157.csv 0:00:21.475000 2018-11-12 14:47:04.205000 2018-11-12 14:47:25.680000\n",
      "hand_log1542062857117.csv 0:01:09.476000 2018-11-12 14:47:37.161000 2018-11-12 14:48:46.637000\n",
      "hand_log1542062937545.csv 0:00:15.285000 2018-11-12 14:48:57.592000 2018-11-12 14:49:12.877000\n",
      "hand_log1542063043880.csv 0:00:16.589000 2018-11-12 14:50:43.924000 2018-11-12 14:51:00.513000\n",
      "hand_log1542063072212.csv 0:00:20.120000 2018-11-12 14:51:12.260000 2018-11-12 14:51:32.380000\n",
      "hand_log1542063264431.csv 0:00:19.389000 2018-11-12 14:54:24.478000 2018-11-12 14:54:43.867000\n",
      "hand_log1542063312867.csv 0:39:13.661000 2018-11-12 14:55:12.914000 2018-11-12 15:34:26.575000\n",
      "hand_log1542065733570.csv 0:02:43.259000 2018-11-12 15:35:33.614000 2018-11-12 15:38:16.873000\n",
      "hand_log1542065908933.csv 0:01:07.471000 2018-11-12 15:38:28.974000 2018-11-12 15:39:36.445000\n",
      "hand_log1542065987922.csv 0:12:39.830000 2018-11-12 15:39:47.965000 2018-11-12 15:52:27.795000\n",
      "hand_log1542067070161.csv 0:21:46.135000 2018-11-12 15:57:50.206000 2018-11-12 16:19:36.341000\n",
      "hand_log1542068380157.csv 0:22:16.169000 2018-11-12 16:19:40.209000 2018-11-12 16:41:56.378000\n",
      "hand_log1542072558972.csv 0:21:05.542000 2018-11-12 17:29:19.017000 2018-11-12 17:50:24.559000\n",
      "hand_log1542074185154.csv 0:02:04.947000 2018-11-12 17:56:25.196000 2018-11-12 17:58:30.143000\n",
      "hand_log1542136320496.csv 0:15:22.822000 2018-11-13 11:12:00.542000 2018-11-13 11:27:23.364000\n",
      "hand_log1542145611730.csv 0:00:00.870000 2018-11-13 13:46:51.776000 2018-11-13 13:46:52.646000\n",
      "hand_log1542145644623.csv 0:33:10.485000 2018-11-13 13:47:24.672000 2018-11-13 14:20:35.157000\n"
     ]
    }
   ],
   "source": [
    "\"\"\"Steps to download the data locally\n",
    "1) Download the `Logs` folder from Google Drive: https://drive.google.com/drive/folders/17qVeGr-oWAaon876jT_5HkJuAzBU8p-f\n",
    "2) Unzip it, and move it into Assets/Logs in FlatWorld\n",
    "\"\"\"\n",
    "\n",
    "files = os.listdir(\"../Logs\")\n",
    "files.sort()\n",
    "for file in files:\n",
    "    if file.endswith(\".csv\"):\n",
    "        with open('../Logs/' + file) as f:\n",
    "            reader = csv.reader(f)\n",
    "            first_line = next(reader)\n",
    "            for row in reader:\n",
    "                last_line = row\n",
    "            start_time = datetime.datetime.strptime(first_line[0], \"%m/%d/%Y %H:%M:%S.%f\")\n",
    "            end_time = datetime.datetime.strptime(last_line[0], \"%m/%d/%Y %H:%M:%S.%f\")\n",
    "            print(file, str(end_time - start_time), start_time, end_time)\n"
   ]
  },
  {
   "cell_type": "code",
   "execution_count": 3,
   "metadata": {
    "collapsed": true
   },
   "outputs": [],
   "source": [
    "# p1-p3 identified from screencapture timestamps: https://drive.google.com/drive/folders/1w1Wd1uBGsqCdc-RZVZTJ3oocitcwuBaS\n",
    "p1_file = '../Logs/hand_log1542067070161.csv' # 16:01\n",
    "p2_file = '../Logs/hand_log1542068380157.csv' # 16:27\n",
    "p3_file = '../Logs/hand_log1542072558972.csv' # 17:35\n",
    "p4_file = '../Logs/hand_log1542136320496.csv'\n",
    "p5_file = '../Logs/hand_log1542145644623.csv'\n",
    "files = [p1_file, p2_file, p3_file, p4_file, p5_file]"
   ]
  },
  {
   "cell_type": "code",
   "execution_count": 4,
   "metadata": {},
   "outputs": [
    {
     "name": "stdout",
     "output_type": "stream",
     "text": [
      "defaultdict(<class 'int'>, {'hand_6dof': 231656, 'object_6dof': 115761, 'experiment_changed': 22})\n",
      "defaultdict(<class 'int'>, {'hand_6dof': 237156, 'object_6dof': 118515, 'experiment_changed': 22})\n",
      "defaultdict(<class 'int'>, {'hand_6dof': 226008, 'object_6dof': 112941, 'experiment_changed': 22})\n",
      "defaultdict(<class 'int'>, {'hand_6dof': 164680, 'object_6dof': 82276, 'experiment_changed': 22})\n",
      "defaultdict(<class 'int'>, {'hand_6dof': 355954, 'object_6dof': 177839, 'experiment_changed': 79})\n"
     ]
    }
   ],
   "source": [
    "for file in files:\n",
    "    event_counts = defaultdict(int)\n",
    "    with open(file) as f:\n",
    "        reader = csv.reader(f)\n",
    "        for row in reader:\n",
    "            event_counts[row[1]] += 1\n",
    "    print(event_counts)"
   ]
  },
  {
   "cell_type": "markdown",
   "metadata": {},
   "source": [
    "# Util stuff"
   ]
  },
  {
   "cell_type": "code",
   "execution_count": 5,
   "metadata": {},
   "outputs": [],
   "source": [
    "def parse_time(s):\n",
    "    return datetime.datetime.strptime(s, \"%m/%d/%Y %H:%M:%S.%f\")\n",
    "\n",
    "def new_events_entry(start_time):\n",
    "    return {'start_time': start_time, 'object_events': []}\n",
    "\n",
    "def parse_event(event):\n",
    "    return {\n",
    "        'time': parse_time(event[0]),\n",
    "        'type': event[1],\n",
    "        'x': float(event[2]),\n",
    "        'y': float(event[3]),\n",
    "        'z': float(event[4]),\n",
    "        'rx': float(event[5]),\n",
    "        'ry': float(event[6]),\n",
    "        'rz': float(event[7]),\n",
    "    }\n",
    "\n",
    "# Participant -> [start_time, end_time, [hand_events], [object_events]]\n",
    "def group_data(file):\n",
    "    with open(file) as f:\n",
    "        reader = csv.reader(f)\n",
    "        events = [new_events_entry(None)]\n",
    "        for row in reader:\n",
    "            if not events[0]['start_time']:\n",
    "                events[0]['start_time'] = parse_time(row[0]) \n",
    "            if row[1] == 'experiment_changed':\n",
    "                events[-1]['end_time'] = parse_time(row[0])\n",
    "                events.append(new_events_entry(parse_time(row[0])))\n",
    "                # Add event data\n",
    "#             elif row[1] == 'hand_6dof':\n",
    "#                 events[-1]['hand_events'].append(parse_event(row))\n",
    "            elif row[1] == 'object_6dof':\n",
    "                events[-1]['object_events'].append(parse_event(row))\n",
    "        events[-1][end_time] = parse_time(row[0])\n",
    "    return events\n",
    "\n",
    "p1_data = group_data(p1_file)\n",
    "p2_data = group_data(p2_file)\n",
    "p3_data = group_data(p3_file)\n",
    "p4_data = group_data(p4_file)\n",
    "p5_data = group_data(p5_file)\n",
    "\n",
    "\n",
    "\n",
    "# TODO: Do something to map correctly (by hand?) to experiment conditions."
   ]
  },
  {
   "cell_type": "code",
   "execution_count": 6,
   "metadata": {},
   "outputs": [
    {
     "data": {
      "text/plain": [
       "[<matplotlib.lines.Line2D at 0x12b079e10>]"
      ]
     },
     "execution_count": 6,
     "metadata": {},
     "output_type": "execute_result"
    },
    {
     "data": {
      "image/png": "[encoded data removed]",
      "text/plain": [
       "<Figure size 432x288 with 1 Axes>"
      ]
     },
     "metadata": {},
     "output_type": "display_data"
    }
   ],
   "source": [
    "# Let's make sure the y axis is what we expect\n",
    "# Let's also try and detect the start and end of the object moving.\n",
    "\n",
    "def approx_eq(a, b):\n",
    "    return abs(a-b) < .001\n",
    "\n",
    "xs = []\n",
    "ys = []\n",
    "zs = []\n",
    "for i, event in enumerate(p1_data[6]['object_events']):\n",
    "    if i%10 == 0:\n",
    "        xs.append(event['x'])\n",
    "        ys.append(event['y'])\n",
    "        zs.append(event['z'])\n",
    "    \n",
    "    if len(xs) > 3:\n",
    "        if not approx_eq(xs[-1], xs[-2]) and approx_eq(xs[-2], xs[-3]):\n",
    "            plt.axvline(x=len(xs))\n",
    "        if approx_eq(xs[-1], xs[-2]) and not approx_eq(xs[-2], xs[-3]):\n",
    "            plt.axvline(x=len(xs), color='black')\n",
    "\n",
    "\n",
    "plt.plot(range(len(xs)), xs, 'o', color='black') \n",
    "plt.plot(range(len(xs)), ys, 'o', color='red') # Confirmed as vertical direction!\n",
    "plt.plot(range(len(xs)), zs, 'o', color='blue')\n",
    "\n"
   ]
  },
  {
   "cell_type": "code",
   "execution_count": 136,
   "metadata": {},
   "outputs": [
    {
     "data": {
      "image/png": "[encoded data removed]",
      "text/plain": [
       "<Figure size 432x288 with 1 Axes>"
      ]
     },
     "metadata": {},
     "output_type": "display_data"
    },
    {
     "name": "stdout",
     "output_type": "stream",
     "text": [
      "0 : [(0, 1), (11, 30), (41, 112), (131, 332), (453, 481), (501, 525), (553, 754), (766, 801), (825, 1005), (1007, 1047), (1050, 1251), (1255, 1456), (1462, 1499)]\n",
      "453\n",
      "481\n"
     ]
    },
    {
     "data": {
      "image/png": "[encoded data removed]",
      "text/plain": [
       "<Figure size 432x288 with 1 Axes>"
      ]
     },
     "metadata": {},
     "output_type": "display_data"
    },
    {
     "name": "stdout",
     "output_type": "stream",
     "text": [
      "y\n"
     ]
    },
    {
     "data": {
      "image/png": "[encoded data removed]",
      "text/plain": [
       "<Figure size 432x288 with 1 Axes>"
      ]
     },
     "metadata": {},
     "output_type": "display_data"
    }
   ],
   "source": [
    "# This code is all only necessary for manual trimming at the start.\n",
    "# Never needs to be run again :)\n",
    "\"\"\"\n",
    "def is_moving(xs, ys, zs):\n",
    "    return ((not almost_eq(xs[-1], xs[-2]) and almost_eq(xs[-2], xs[-3])) or\n",
    "        (not almost_eq(ys[-1], ys[-2]) and almost_eq(ys[-2], ys[-3])) or\n",
    "        (not almost_eq(zs[-1], zs[-2]) and almost_eq(zs[-2], zs[-3]))\n",
    "        )\n",
    "\n",
    "def almost_eq(a, b):\n",
    "    return abs(a-b) < .001\n",
    "\n",
    "def add_trim_metadata(data):\n",
    "    for trial_num, trial in enumerate(data):\n",
    "        xs = []\n",
    "        ys = []\n",
    "        zs = []\n",
    "        # Keep track of the relevant ranges\n",
    "        ranges = []\n",
    "        start_v_lines = [0]\n",
    "        end_v_lines = []\n",
    "        curr_range_start = 0\n",
    "        start_y = 0\n",
    "\n",
    "        for i, event in enumerate(trial['object_events']):\n",
    "            xs.append(event['x'])\n",
    "            ys.append(event['y'])\n",
    "            zs.append(event['z'])\n",
    "            if curr_range_start is not None:\n",
    "                if abs(ys[-1] - start_y) >= .1 or i - curr_range_start > 200:\n",
    "                    ranges.append((curr_range_start, i))\n",
    "                    curr_range_start = None\n",
    "                    end_v_lines.append(i)\n",
    "            else:\n",
    "                if len(xs) >= 3 and is_moving(xs[-3:], ys[-3:], zs[-3:]):\n",
    "                    curr_range_start = i\n",
    "                    start_v_lines.append(i)\n",
    "                    start_y = ys[-1]\n",
    "        if curr_range_start:\n",
    "            ranges.append((curr_range_start, i))\n",
    "            end_v_lines.append(i)\n",
    "\n",
    "        valid = 'n'\n",
    "        while valid != 'y':\n",
    "            for i in start_v_lines:\n",
    "                plt.axvline(x=i, color='black')\n",
    "            for i in end_v_lines:\n",
    "                plt.axvline(x=i, color='red')\n",
    "            \n",
    "            plt.plot(range(len(xs)), xs, 'o', color='black') \n",
    "            plt.plot(range(len(xs)), ys, 'o', color='red') # Confirmed as vertical direction!\n",
    "            plt.plot(range(len(xs)), zs, 'o', color='blue')\n",
    "            display.display(plt.gcf())\n",
    "\n",
    "            print(trial_num, ':', ranges)\n",
    "#             if 'end_i' in trial:\n",
    "#                 print(trial['start_i'], trial['end_i'])\n",
    "            start = int(input())\n",
    "            end = int(input())\n",
    "\n",
    "            plt.cla()\n",
    "\n",
    "            plt.plot(range(end-start), xs[start:end], 'o', color='black') \n",
    "            plt.plot(range(end-start), ys[start:end], 'o', color='red') # Confirmed as vertical direction!\n",
    "            plt.plot(range(end-start), zs[start:end], 'o', color='blue')\n",
    "            display.display(plt.gcf())\n",
    "\n",
    "            valid = input()\n",
    "\n",
    "#             trial['object_events'] = trial['object_events'][start:end]\n",
    "\n",
    "            plt.cla()\n",
    "        trial['start_i'] = start\n",
    "        trial['end_i'] = end\n",
    "\n",
    "\n",
    "def custom_add_trim_metadata(data, trial_i, start_i, end_i):\n",
    "    copy_data = copy.deepcopy(data)\n",
    "    copy_data = [copy_data[trial_i]]\n",
    "    copy_data[0]['object_events'] = copy_data[0]['object_events'][start_i:end_i]\n",
    "    add_trim_metadata(copy_data)\n",
    "    data[trial_i]['start_i'] = copy_data[0]['start_i'] + start_i\n",
    "    data[trial_i]['end_i'] = copy_data[0]['end_i'] + start_i\n",
    "    return copy_data\n",
    "\n",
    "# add_trim_metadata(p5_data)\n",
    "# custom_add_trim_metadata(p5_data, 63, 0, 1500)\n",
    "\n",
    "# custom_add_trim_metadata(p5_data, 43, 1100, 1300)\n",
    "# custom_add_trim_metadata(p5_data, 51, 170, 220)\n",
    "# custom_add_trim_metadata(p5_data, 75, 400, 600)\n",
    "# custom_add_trim_metadata(p5_data, 78, 410, 600)\n",
    "custom_add_trim_metadata(p5_data, 79, 0, 1500)\n",
    "pass\n",
    "\"\"\""
   ]
  },
  {
   "cell_type": "code",
   "execution_count": 145,
   "metadata": {
    "collapsed": true
   },
   "outputs": [],
   "source": [
    "# for i, e in enumerate(p1_data):\n",
    "#     e['start_i'] = e['object_events'][-1]['start_i']\n",
    "#     e['end_i'] = e['object_events'][-1]['start_i']\n",
    "#     print(i, e.keys())\n",
    "# #     print(e['start_i'], e['end_i'])\n",
    "vals = [0, 0, 0,0,0,4904,765,319,1502,541,229,1012,503,171,1099,436,406,1115,271,427,1278,447,522]\n",
    "\n",
    "for i, e in enumerate(p1_data):\n",
    "    e['start_i'] = vals[i]"
   ]
  },
  {
   "cell_type": "markdown",
   "metadata": {},
   "source": [
    "### One-off trim set-up"
   ]
  },
  {
   "cell_type": "code",
   "execution_count": 7,
   "metadata": {},
   "outputs": [
    {
     "ename": "KeyError",
     "evalue": "'start_i'",
     "output_type": "error",
     "traceback": [
      "\u001b[0;31m---------------------------------------------------------------------------\u001b[0m",
      "\u001b[0;31mKeyError\u001b[0m                                  Traceback (most recent call last)",
      "\u001b[0;32m<ipython-input-7-19c5fad2395c>\u001b[0m in \u001b[0;36m<module>\u001b[0;34m()\u001b[0m\n\u001b[1;32m     10\u001b[0m     \u001b[0mprint\u001b[0m\u001b[0;34m(\u001b[0m\u001b[0mret_str\u001b[0m\u001b[0;34m)\u001b[0m\u001b[0;34m\u001b[0m\u001b[0m\n\u001b[1;32m     11\u001b[0m \u001b[0;34m\u001b[0m\u001b[0m\n\u001b[0;32m---> 12\u001b[0;31m \u001b[0mconstant_string_helper\u001b[0m\u001b[0;34m(\u001b[0m\u001b[0;34m\"P1_METADATA\"\u001b[0m\u001b[0;34m,\u001b[0m \u001b[0mp1_data\u001b[0m\u001b[0;34m,\u001b[0m \u001b[0;34m[\u001b[0m\u001b[0;34m'puck'\u001b[0m\u001b[0;34m,\u001b[0m \u001b[0;34m'control'\u001b[0m\u001b[0;34m,\u001b[0m \u001b[0;34m'static'\u001b[0m\u001b[0;34m]\u001b[0m\u001b[0;34m,\u001b[0m \u001b[0;34m[\u001b[0m\u001b[0;34m'cup'\u001b[0m\u001b[0;34m,\u001b[0m \u001b[0;34m'controller'\u001b[0m\u001b[0;34m]\u001b[0m\u001b[0;34m,\u001b[0m \u001b[0;34m[\u001b[0m\u001b[0;34m'control'\u001b[0m\u001b[0;34m,\u001b[0m \u001b[0;34m'heatmap'\u001b[0m\u001b[0;34m,\u001b[0m \u001b[0;34m'shell'\u001b[0m\u001b[0;34m]\u001b[0m\u001b[0;34m)\u001b[0m\u001b[0;34m\u001b[0m\u001b[0m\n\u001b[0m\u001b[1;32m     13\u001b[0m \u001b[0mconstant_string_helper\u001b[0m\u001b[0;34m(\u001b[0m\u001b[0;34m\"P2_METADATA\"\u001b[0m\u001b[0;34m,\u001b[0m \u001b[0mp2_data\u001b[0m\u001b[0;34m,\u001b[0m \u001b[0;34m[\u001b[0m\u001b[0;34m'control'\u001b[0m\u001b[0;34m,\u001b[0m \u001b[0;34m'static'\u001b[0m\u001b[0;34m,\u001b[0m \u001b[0;34m'puck'\u001b[0m\u001b[0;34m]\u001b[0m\u001b[0;34m,\u001b[0m \u001b[0;34m[\u001b[0m\u001b[0;34m'cup'\u001b[0m\u001b[0;34m,\u001b[0m \u001b[0;34m'controller'\u001b[0m\u001b[0;34m]\u001b[0m\u001b[0;34m,\u001b[0m \u001b[0;34m[\u001b[0m\u001b[0;34m'shell'\u001b[0m\u001b[0;34m,\u001b[0m \u001b[0;34m'heatmap'\u001b[0m\u001b[0;34m,\u001b[0m \u001b[0;34m'control'\u001b[0m\u001b[0;34m]\u001b[0m\u001b[0;34m)\u001b[0m\u001b[0;34m\u001b[0m\u001b[0m\n\u001b[1;32m     14\u001b[0m \u001b[0mconstant_string_helper\u001b[0m\u001b[0;34m(\u001b[0m\u001b[0;34m\"P3_METADATA\"\u001b[0m\u001b[0;34m,\u001b[0m \u001b[0mp3_data\u001b[0m\u001b[0;34m,\u001b[0m \u001b[0;34m[\u001b[0m\u001b[0;34m'static'\u001b[0m\u001b[0;34m,\u001b[0m \u001b[0;34m'control'\u001b[0m\u001b[0;34m,\u001b[0m \u001b[0;34m'puck'\u001b[0m\u001b[0;34m]\u001b[0m\u001b[0;34m,\u001b[0m \u001b[0;34m[\u001b[0m\u001b[0;34m'controller'\u001b[0m\u001b[0;34m,\u001b[0m \u001b[0;34m'cup'\u001b[0m\u001b[0;34m]\u001b[0m\u001b[0;34m,\u001b[0m \u001b[0;34m[\u001b[0m\u001b[0;34m'heatmap'\u001b[0m\u001b[0;34m,\u001b[0m \u001b[0;34m'shell'\u001b[0m\u001b[0;34m,\u001b[0m \u001b[0;34m'control'\u001b[0m\u001b[0;34m]\u001b[0m\u001b[0;34m)\u001b[0m\u001b[0;34m\u001b[0m\u001b[0m\n",
      "\u001b[0;32m<ipython-input-7-19c5fad2395c>\u001b[0m in \u001b[0;36mconstant_string_helper\u001b[0;34m(variable_name, data, hand_rep_order, object_type_order, object_rep_order)\u001b[0m\n\u001b[1;32m      2\u001b[0m     \u001b[0mret_str\u001b[0m \u001b[0;34m=\u001b[0m \u001b[0;34m\"%s = {\\n\"\u001b[0m \u001b[0;34m%\u001b[0m \u001b[0mvariable_name\u001b[0m\u001b[0;34m\u001b[0m\u001b[0m\n\u001b[1;32m      3\u001b[0m     \u001b[0;32mfor\u001b[0m \u001b[0mi\u001b[0m\u001b[0;34m,\u001b[0m \u001b[0mtrial\u001b[0m \u001b[0;32min\u001b[0m \u001b[0menumerate\u001b[0m\u001b[0;34m(\u001b[0m\u001b[0mdata\u001b[0m\u001b[0;34m)\u001b[0m\u001b[0;34m:\u001b[0m\u001b[0;34m\u001b[0m\u001b[0m\n\u001b[0;32m----> 4\u001b[0;31m         \u001b[0;32mif\u001b[0m \u001b[0mtrial\u001b[0m\u001b[0;34m[\u001b[0m\u001b[0;34m'start_i'\u001b[0m\u001b[0;34m]\u001b[0m\u001b[0;34m:\u001b[0m\u001b[0;34m\u001b[0m\u001b[0m\n\u001b[0m\u001b[1;32m      5\u001b[0m             \u001b[0mhand_rep\u001b[0m \u001b[0;34m=\u001b[0m \u001b[0mhand_rep_order\u001b[0m\u001b[0;34m[\u001b[0m\u001b[0;34m(\u001b[0m\u001b[0mi\u001b[0m\u001b[0;34m%\u001b[0m\u001b[0;36m23\u001b[0m\u001b[0;34m-\u001b[0m\u001b[0;36m5\u001b[0m\u001b[0;34m)\u001b[0m\u001b[0;34m//\u001b[0m\u001b[0;36m6\u001b[0m\u001b[0;34m]\u001b[0m\u001b[0;34m\u001b[0m\u001b[0m\n\u001b[1;32m      6\u001b[0m             \u001b[0mobject_type\u001b[0m \u001b[0;34m=\u001b[0m \u001b[0mobject_type_order\u001b[0m\u001b[0;34m[\u001b[0m\u001b[0;34m(\u001b[0m\u001b[0mi\u001b[0m\u001b[0;34m%\u001b[0m\u001b[0;36m23\u001b[0m\u001b[0;34m-\u001b[0m\u001b[0;36m5\u001b[0m\u001b[0;34m)\u001b[0m\u001b[0;34m%\u001b[0m\u001b[0;36m6\u001b[0m\u001b[0;34m//\u001b[0m\u001b[0;36m3\u001b[0m\u001b[0;34m]\u001b[0m\u001b[0;34m\u001b[0m\u001b[0m\n",
      "\u001b[0;31mKeyError\u001b[0m: 'start_i'"
     ]
    }
   ],
   "source": [
    "\"\"\"def constant_string_helper(variable_name, data, hand_rep_order, object_type_order, object_rep_order):\n",
    "    ret_str = \"%s = {\\n\" % variable_name\n",
    "    for i, trial in enumerate(data):\n",
    "        if trial['start_i']:\n",
    "            hand_rep = hand_rep_order[(i%23-5)//6]\n",
    "            object_type = object_type_order[(i%23-5)%6//3]\n",
    "            object_rep = object_rep_order[(i%23-5)%3]\n",
    "            ret_str += \"  {}: ('{}', '{}', '{}', {}),\\n\".format(i, hand_rep, object_type, object_rep, trial['start_i'])\n",
    "    ret_str += \"}\"\n",
    "    print(ret_str)\n",
    "\n",
    "constant_string_helper(\"P1_METADATA\", p1_data, ['puck', 'control', 'static'], ['cup', 'controller'], ['control', 'heatmap', 'shell'])\n",
    "constant_string_helper(\"P2_METADATA\", p2_data, ['control', 'static', 'puck'], ['cup', 'controller'], ['shell', 'heatmap', 'control'])\n",
    "constant_string_helper(\"P3_METADATA\", p3_data, ['static', 'control', 'puck'], ['controller', 'cup'], ['heatmap', 'shell', 'control'])\n",
    "constant_string_helper(\"P4_METADATA\", p4_data, ['control', 'puck', 'static'], ['controller', 'cup'], ['control', 'heatmap', 'shell'])\n",
    "constant_string_helper(\"P5_METADATA\", p5_data, ['puck', 'static', 'control'], ['cup', 'controller'], ['heatmap', 'control', 'shell'])\n",
    "\"\"\""
   ]
  },
  {
   "cell_type": "code",
   "execution_count": 8,
   "metadata": {
    "collapsed": true
   },
   "outputs": [],
   "source": [
    "P1_METADATA = {\n",
    "  5: ('puck', 'cup', 'control', 4904),\n",
    "  6: ('puck', 'cup', 'heatmap', 765),\n",
    "  7: ('puck', 'cup', 'shell', 319),\n",
    "  8: ('puck', 'controller', 'control', 1502),\n",
    "  9: ('puck', 'controller', 'heatmap', 541),\n",
    "  10: ('puck', 'controller', 'shell', 229),\n",
    "  11: ('control', 'cup', 'control', 1012),\n",
    "  12: ('control', 'cup', 'heatmap', 503),\n",
    "  13: ('control', 'cup', 'shell', 171),\n",
    "  14: ('control', 'controller', 'control', 1099),\n",
    "  15: ('control', 'controller', 'heatmap', 436),\n",
    "  16: ('control', 'controller', 'shell', 406),\n",
    "  17: ('static', 'cup', 'control', 1115),\n",
    "  18: ('static', 'cup', 'heatmap', 271),\n",
    "  19: ('static', 'cup', 'shell', 427),\n",
    "  20: ('static', 'controller', 'control', 1278),\n",
    "  21: ('static', 'controller', 'heatmap', 447),\n",
    "  22: ('static', 'controller', 'shell', 522),\n",
    "}\n",
    "P2_METADATA = {\n",
    "  5: ('control', 'cup', 'shell', 2146),\n",
    "  6: ('control', 'cup', 'heatmap', 791),\n",
    "  7: ('control', 'cup', 'control', 987),\n",
    "  8: ('control', 'controller', 'shell', 1457),\n",
    "  9: ('control', 'controller', 'heatmap', 701),\n",
    "  10: ('control', 'controller', 'control', 659),\n",
    "  11: ('static', 'cup', 'shell', 1041),\n",
    "  12: ('static', 'cup', 'heatmap', 543),\n",
    "  13: ('static', 'cup', 'control', 388),\n",
    "  14: ('static', 'controller', 'shell', 431),\n",
    "  15: ('static', 'controller', 'heatmap', 754),\n",
    "  16: ('static', 'controller', 'control', 511),\n",
    "  17: ('puck', 'cup', 'shell', 1481),\n",
    "  18: ('puck', 'cup', 'heatmap', 400),\n",
    "  19: ('puck', 'cup', 'control', 449),\n",
    "  20: ('puck', 'controller', 'shell', 1030),\n",
    "  21: ('puck', 'controller', 'heatmap', 403),\n",
    "  22: ('puck', 'controller', 'control', 560),\n",
    "}\n",
    "P3_METADATA = {\n",
    "  5: ('static', 'controller', 'heatmap', 5025),\n",
    "  6: ('static', 'controller', 'shell', 770),\n",
    "  7: ('static', 'controller', 'control', 574),\n",
    "  8: ('static', 'cup', 'heatmap', 1025),\n",
    "  9: ('static', 'cup', 'shell', 512),\n",
    "  10: ('static', 'cup', 'control', 452),\n",
    "  11: ('control', 'controller', 'heatmap', 1564),\n",
    "  12: ('control', 'controller', 'shell', 528),\n",
    "  13: ('control', 'controller', 'control', 364),\n",
    "  14: ('control', 'cup', 'heatmap', 960),\n",
    "  15: ('control', 'cup', 'shell', 299),\n",
    "  16: ('control', 'cup', 'control', 373),\n",
    "  17: ('puck', 'controller', 'heatmap', 2350),\n",
    "  18: ('puck', 'controller', 'shell', 341),\n",
    "  19: ('puck', 'controller', 'control', 393),\n",
    "  20: ('puck', 'cup', 'heatmap', 972),\n",
    "  21: ('puck', 'cup', 'shell', 354),\n",
    "  22: ('puck', 'cup', 'control', 374),\n",
    "}\n",
    "P4_METADATA = {\n",
    "  5: ('control', 'controller', 'control', 1825),\n",
    "  6: ('control', 'controller', 'heatmap', 802),\n",
    "  7: ('control', 'controller', 'shell', 487),\n",
    "  8: ('control', 'cup', 'control', 1105),\n",
    "  9: ('control', 'cup', 'heatmap', 368),\n",
    "  10: ('control', 'cup', 'shell', 316),\n",
    "  11: ('puck', 'controller', 'control', 2880),\n",
    "  12: ('puck', 'controller', 'heatmap', 672),\n",
    "  13: ('puck', 'controller', 'shell', 359),\n",
    "  14: ('puck', 'cup', 'control', 817),\n",
    "  15: ('puck', 'cup', 'heatmap', 300),\n",
    "  16: ('puck', 'cup', 'shell', 293),\n",
    "  17: ('static', 'controller', 'control', 1732),\n",
    "  18: ('static', 'controller', 'heatmap', 396),\n",
    "  19: ('static', 'controller', 'shell', 420),\n",
    "  20: ('static', 'cup', 'control', 676),\n",
    "  21: ('static', 'cup', 'heatmap', 622),\n",
    "  22: ('static', 'cup', 'shell', 299),\n",
    "}\n",
    "P5_METADATA = {\n",
    "  34: ('static', 'cup', 'heatmap', 4651),\n",
    "  35: ('static', 'cup', 'control', 1535),\n",
    "  36: ('static', 'cup', 'shell', 785),\n",
    "  37: ('static', 'controller', 'heatmap', 1296),\n",
    "  38: ('static', 'controller', 'control', 631),\n",
    "  39: ('static', 'controller', 'shell', 637),\n",
    "  40: ('control', 'cup', 'heatmap', 1266),\n",
    "  41: ('control', 'cup', 'control', 628),\n",
    "  42: ('control', 'cup', 'shell', 409),\n",
    "  43: ('control', 'controller', 'heatmap', 1123),\n",
    "  44: ('control', 'controller', 'control', 603),\n",
    "  45: ('control', 'controller', 'shell', 441),\n",
    "  74: ('puck', 'cup', 'heatmap', 1373),\n",
    "  75: ('puck', 'cup', 'control', 436),\n",
    "  76: ('puck', 'cup', 'shell', 356),\n",
    "  77: ('puck', 'controller', 'heatmap', 878),\n",
    "  78: ('puck', 'controller', 'control', 440),\n",
    "  79: ('puck', 'controller', 'shell', 453),\n",
    "}"
   ]
  },
  {
   "cell_type": "code",
   "execution_count": 29,
   "metadata": {
    "collapsed": true
   },
   "outputs": [],
   "source": [
    "HEIGHT_THRESH = .02 # 2cm\n",
    "\n",
    "def trimmed_data(data, metadata, participant):\n",
    "    new_data = []\n",
    "    for trial_i, meta in metadata.items():\n",
    "        new_data.append(copy.deepcopy(data[trial_i]))\n",
    "        new_data[-1]['hand_rep'] = meta[0]\n",
    "        new_data[-1]['object_type'] = meta[1]\n",
    "        new_data[-1]['object_rep'] = meta[2]\n",
    "        new_data[-1]['participant'] = participant\n",
    "        i = meta[3]\n",
    "        start_y = new_data[-1]['object_events'][i]['y']\n",
    "        while True:\n",
    "            i += 1\n",
    "            if new_data[-1]['object_events'][i]['y'] - start_y >= HEIGHT_THRESH:\n",
    "                break\n",
    "        new_data[-1]['object_events'] = new_data[-1]['object_events'][meta[3]:i]\n",
    "    return new_data\n",
    "\n",
    "p1_trimmed_data = trimmed_data(p1_data, P1_METADATA, 'p1')\n",
    "p2_trimmed_data = trimmed_data(p2_data, P2_METADATA, 'p2')\n",
    "p3_trimmed_data = trimmed_data(p3_data, P3_METADATA, 'p3')\n",
    "p4_trimmed_data = trimmed_data(p4_data, P4_METADATA, 'p4')\n",
    "p5_trimmed_data = trimmed_data(p5_data, P5_METADATA, 'p5')"
   ]
  },
  {
   "cell_type": "code",
   "execution_count": 10,
   "metadata": {},
   "outputs": [
    {
     "ename": "KeyError",
     "evalue": "'end_i'",
     "output_type": "error",
     "traceback": [
      "\u001b[0;31m---------------------------------------------------------------------------\u001b[0m",
      "\u001b[0;31mKeyError\u001b[0m                                  Traceback (most recent call last)",
      "\u001b[0;32m<ipython-input-10-8cb5a807fd56>\u001b[0m in \u001b[0;36m<module>\u001b[0;34m()\u001b[0m\n\u001b[1;32m      3\u001b[0m \u001b[0mj\u001b[0m \u001b[0;34m=\u001b[0m \u001b[0;36m0\u001b[0m\u001b[0;34m\u001b[0m\u001b[0m\n\u001b[1;32m      4\u001b[0m \u001b[0;32mfor\u001b[0m \u001b[0mi\u001b[0m\u001b[0;34m,\u001b[0m \u001b[0mte\u001b[0m \u001b[0;32min\u001b[0m \u001b[0menumerate\u001b[0m\u001b[0;34m(\u001b[0m\u001b[0mp4_trimmed_data\u001b[0m\u001b[0;34m)\u001b[0m\u001b[0;34m:\u001b[0m\u001b[0;34m\u001b[0m\u001b[0m\n\u001b[0;32m----> 5\u001b[0;31m     \u001b[0;32mwhile\u001b[0m \u001b[0mp4_data\u001b[0m\u001b[0;34m[\u001b[0m\u001b[0mj\u001b[0m\u001b[0;34m]\u001b[0m\u001b[0;34m[\u001b[0m\u001b[0;34m'end_i'\u001b[0m\u001b[0;34m]\u001b[0m \u001b[0;34m-\u001b[0m \u001b[0mp4_data\u001b[0m\u001b[0;34m[\u001b[0m\u001b[0mj\u001b[0m\u001b[0;34m]\u001b[0m\u001b[0;34m[\u001b[0m\u001b[0;34m'start_i'\u001b[0m\u001b[0;34m]\u001b[0m \u001b[0;34m==\u001b[0m \u001b[0;36m1\u001b[0m\u001b[0;34m:\u001b[0m\u001b[0;34m\u001b[0m\u001b[0m\n\u001b[0m\u001b[1;32m      6\u001b[0m         \u001b[0mj\u001b[0m \u001b[0;34m+=\u001b[0m \u001b[0;36m1\u001b[0m\u001b[0;34m\u001b[0m\u001b[0m\n\u001b[1;32m      7\u001b[0m     \u001b[0;32massert\u001b[0m\u001b[0;34m(\u001b[0m\u001b[0mp4_data\u001b[0m\u001b[0;34m[\u001b[0m\u001b[0mj\u001b[0m\u001b[0;34m]\u001b[0m\u001b[0;34m[\u001b[0m\u001b[0;34m'end_i'\u001b[0m\u001b[0;34m]\u001b[0m \u001b[0;34m-\u001b[0m \u001b[0mp4_data\u001b[0m\u001b[0;34m[\u001b[0m\u001b[0mj\u001b[0m\u001b[0;34m]\u001b[0m\u001b[0;34m[\u001b[0m\u001b[0;34m'start_i'\u001b[0m\u001b[0;34m]\u001b[0m \u001b[0;34m>\u001b[0m \u001b[0mlen\u001b[0m\u001b[0;34m(\u001b[0m\u001b[0mte\u001b[0m\u001b[0;34m[\u001b[0m\u001b[0;34m'object_events'\u001b[0m\u001b[0;34m]\u001b[0m\u001b[0;34m)\u001b[0m\u001b[0;34m)\u001b[0m\u001b[0;34m\u001b[0m\u001b[0m\n",
      "\u001b[0;31mKeyError\u001b[0m: 'end_i'"
     ]
    }
   ],
   "source": [
    "# Sanity Checks.\n",
    "\n",
    "j = 0\n",
    "for i, te in enumerate(p4_trimmed_data):\n",
    "    while p4_data[j]['end_i'] - p4_data[j]['start_i'] == 1:\n",
    "        j += 1\n",
    "    assert(p4_data[j]['end_i'] - p4_data[j]['start_i'] > len(te['object_events']))\n",
    "    j += 1"
   ]
  },
  {
   "cell_type": "markdown",
   "metadata": {},
   "source": [
    "# Distance Offset"
   ]
  },
  {
   "cell_type": "markdown",
   "metadata": {},
   "source": [
    "### By Participant"
   ]
  },
  {
   "cell_type": "code",
   "execution_count": 30,
   "metadata": {},
   "outputs": [
    {
     "data": {
      "text/plain": [
       "[<matplotlib.lines.Line2D at 0x12b4d4fd0>]"
      ]
     },
     "execution_count": 30,
     "metadata": {},
     "output_type": "execute_result"
    },
    {
     "data": {
      "image/png": "[encoded data removed]",
      "text/plain": [
       "<Figure size 432x288 with 1 Axes>"
      ]
     },
     "metadata": {},
     "output_type": "display_data"
    }
   ],
   "source": [
    "def dist(events):\n",
    "    last_event = None\n",
    "    total_dist = 0\n",
    "    for e in events:\n",
    "        if last_event:\n",
    "            total_dist += math.sqrt((e['x'] - last_event['x'])**2 + (e['z'] - last_event['z'])**2)\n",
    "        last_event = e\n",
    "    return total_dist\n",
    "\n",
    "p1_vals = []\n",
    "for e in p1_trimmed_data:\n",
    "    p1_vals.append(dist(e['object_events']))\n",
    "\n",
    "p2_vals = []\n",
    "for e in p2_trimmed_data:\n",
    "    p2_vals.append(dist(e['object_events']))\n",
    "\n",
    "p3_vals = []\n",
    "for e in p3_trimmed_data:\n",
    "    p3_vals.append(dist(e['object_events']))\n",
    "\n",
    "p4_vals = []\n",
    "for e in p4_trimmed_data:\n",
    "    p4_vals.append(dist(e['object_events']))\n",
    "\n",
    "p5_vals = []\n",
    "for e in p5_trimmed_data:\n",
    "    p5_vals.append(dist(e['object_events']))\n",
    "\n",
    "    \n",
    "    \n",
    "plt.boxplot([p1_vals, p2_vals, p3_vals, p4_vals, p5_vals], positions=[1,2,3,4,5])\n",
    "plt.plot([1] * len(p1_vals), p1_vals, 'x')\n",
    "plt.plot([2] * len(p2_vals), p2_vals, 'x')\n",
    "plt.plot([3] * len(p3_vals), p3_vals, 'x')\n",
    "plt.plot([4] * len(p4_vals), p4_vals, 'x')\n",
    "plt.plot([5] * len(p5_vals), p5_vals, 'x')"
   ]
  },
  {
   "cell_type": "markdown",
   "metadata": {},
   "source": [
    "### By Hand Rep"
   ]
  },
  {
   "cell_type": "code",
   "execution_count": 12,
   "metadata": {},
   "outputs": [
    {
     "name": "stdout",
     "output_type": "stream",
     "text": [
      "Validation:\n",
      "defaultdict(<class 'int'>, {'puck': 30, 'control': 30, 'static': 30})\n",
      "\n",
      "Basic Stats:\n",
      "puck -  mean 0.03788421009046418   median 0.02871743314404205\n",
      "control -  mean 0.024022907514526723   median 0.018050374844435054\n",
      "static -  mean 0.02585725664239563   median 0.02309173396668522\n",
      "\n",
      "Box Plots:\n"
     ]
    },
    {
     "data": {
      "image/png": "[encoded data removed]",
      "text/plain": [
       "<Figure size 432x288 with 1 Axes>"
      ]
     },
     "metadata": {},
     "output_type": "display_data"
    }
   ],
   "source": [
    "data = [p1_trimmed_data,p2_trimmed_data,p3_trimmed_data,p4_trimmed_data,p5_trimmed_data]\n",
    "\n",
    "# Ensure we have the expected number for each hand rep\n",
    "hand_rep_counts = defaultdict(int)\n",
    "for participant_data in data:\n",
    "    for trial_data in participant_data:\n",
    "        hand_rep_counts[trial_data['hand_rep']] += 1\n",
    "print(\"Validation:\")\n",
    "print(hand_rep_counts)\n",
    "\n",
    "dist_by_hand_rep = defaultdict(list)\n",
    "for participant_data in data:\n",
    "    for trial_data in participant_data:\n",
    "        dist_by_hand_rep[trial_data['hand_rep']].append(dist(trial_data['object_events']))\n",
    "\n",
    "print(\"\\nBasic Stats:\")\n",
    "for hand_rep, dists in dist_by_hand_rep.items():\n",
    "    print(hand_rep, \"-  mean\", statistics.mean(dists), \"  median\", statistics.median(dists))\n",
    "    \n",
    "print(\"\\nBox Plots:\")\n",
    "vals = []\n",
    "tick_names = []\n",
    "for i, (hand_rep, dists) in enumerate(dist_by_hand_rep.items()):\n",
    "    vals.append(dists)\n",
    "    tick_names.append(hand_rep)\n",
    "    plt.plot([i] * len(dists), dists, 'x')\n",
    "plt.boxplot(vals, positions=list(range(len(vals))))\n",
    "plt.xticks(list(range(len(vals))), tick_names)\n",
    "pass"
   ]
  },
  {
   "cell_type": "markdown",
   "metadata": {},
   "source": [
    "### By Object Rep"
   ]
  },
  {
   "cell_type": "code",
   "execution_count": 13,
   "metadata": {},
   "outputs": [
    {
     "name": "stdout",
     "output_type": "stream",
     "text": [
      "Validation:\n",
      "defaultdict(<class 'int'>, {'control': 30, 'heatmap': 30, 'shell': 30})\n",
      "\n",
      "Basic Stats:\n",
      "control -  mean 0.025412756893836756   median 0.019835373219725533\n",
      "heatmap -  mean 0.02934832264644717   median 0.025445059773069965\n",
      "shell -  mean 0.0330032947071026   median 0.020958154233862054\n",
      "\n",
      "Box Plots:\n"
     ]
    },
    {
     "data": {
      "image/png": "[encoded data removed]",
      "text/plain": [
       "<Figure size 432x288 with 1 Axes>"
      ]
     },
     "metadata": {},
     "output_type": "display_data"
    }
   ],
   "source": [
    "data = [p1_trimmed_data,p2_trimmed_data,p3_trimmed_data,p4_trimmed_data,p5_trimmed_data]\n",
    "\n",
    "# Ensure we have the expected number for each object rep\n",
    "object_rep_counts = defaultdict(int)\n",
    "for participant_data in data:\n",
    "    for trial_data in participant_data:\n",
    "        object_rep_counts[trial_data['object_rep']] += 1\n",
    "print(\"Validation:\")\n",
    "print(object_rep_counts)\n",
    "\n",
    "dist_by_object_rep = defaultdict(list)\n",
    "for participant_data in data:\n",
    "    for trial_data in participant_data:\n",
    "        dist_by_object_rep[trial_data['object_rep']].append(dist(trial_data['object_events']))\n",
    "\n",
    "print(\"\\nBasic Stats:\")\n",
    "for object_rep, dists in dist_by_object_rep.items():\n",
    "    print(object_rep, \"-  mean\", statistics.mean(dists), \"  median\", statistics.median(dists))\n",
    "    \n",
    "print(\"\\nBox Plots:\")\n",
    "vals = []\n",
    "tick_names = []\n",
    "for i, (object_rep, dists) in enumerate(dist_by_object_rep.items()):\n",
    "    vals.append(dists)\n",
    "    tick_names.append(object_rep)\n",
    "    plt.plot([i] * len(dists), dists, 'x')\n",
    "plt.boxplot(vals, positions=list(range(len(vals))))\n",
    "plt.xticks(list(range(len(vals))), tick_names)\n",
    "pass"
   ]
  },
  {
   "cell_type": "markdown",
   "metadata": {},
   "source": [
    "### By Object Type"
   ]
  },
  {
   "cell_type": "code",
   "execution_count": 14,
   "metadata": {},
   "outputs": [
    {
     "name": "stdout",
     "output_type": "stream",
     "text": [
      "Validation:\n",
      "defaultdict(<class 'int'>, {'cup': 45, 'controller': 45})\n",
      "\n",
      "Basic Stats:\n",
      "cup -  mean 0.03484287789126216   median 0.030161034081068475\n",
      "controller -  mean 0.023666704940328857   median 0.018051547282562697\n",
      "\n",
      "Box Plots:\n"
     ]
    },
    {
     "data": {
      "image/png": "[encoded data removed]",
      "text/plain": [
       "<Figure size 432x288 with 1 Axes>"
      ]
     },
     "metadata": {},
     "output_type": "display_data"
    }
   ],
   "source": [
    "data = [p1_trimmed_data,p2_trimmed_data,p3_trimmed_data,p4_trimmed_data,p5_trimmed_data]\n",
    "\n",
    "# Ensure we have the expected number for each object type\n",
    "object_type_counts = defaultdict(int)\n",
    "for participant_data in data:\n",
    "    for trial_data in participant_data:\n",
    "        object_type_counts[trial_data['object_type']] += 1\n",
    "print(\"Validation:\")\n",
    "print(object_type_counts)\n",
    "\n",
    "dist_by_object_type = defaultdict(list)\n",
    "for participant_data in data:\n",
    "    for trial_data in participant_data:\n",
    "        dist_by_object_type[trial_data['object_type']].append(dist(trial_data['object_events']))\n",
    "\n",
    "print(\"\\nBasic Stats:\")\n",
    "for object_type, dists in dist_by_object_type.items():\n",
    "    print(object_type, \"-  mean\", statistics.mean(dists), \"  median\", statistics.median(dists))\n",
    "    \n",
    "print(\"\\nBox Plots:\")\n",
    "vals = []\n",
    "tick_names = []\n",
    "for i, (object_type, dists) in enumerate(dist_by_object_type.items()):\n",
    "    vals.append(dists)\n",
    "    tick_names.append(object_type)\n",
    "    plt.plot([i] * len(dists), dists, 'x')\n",
    "plt.boxplot(vals, positions=list(range(len(vals))))\n",
    "plt.xticks(list(range(len(vals))), tick_names)\n",
    "pass"
   ]
  },
  {
   "cell_type": "markdown",
   "metadata": {},
   "source": [
    "# Rotation Offset"
   ]
  },
  {
   "cell_type": "code",
   "execution_count": 26,
   "metadata": {},
   "outputs": [],
   "source": [
    "def dot_product(v1, v2):\n",
    "    return sum(i[0] * i[1] for i in zip(v1, v2))\n",
    "\n",
    "# Based on https://math.stackexchange.com/questions/90081/quaternion-distance\n",
    "def quat_angle_diff(q1, q2):\n",
    "    inner = 2*(dot_product(q1, q2)**2) - 1\n",
    "    if inner > 1:\n",
    "#         print(\"buggy inner?\", inner)\n",
    "        inner = 1\n",
    "    if inner < -1:\n",
    "#         print(\"buggy inner?\", inner)\n",
    "        inner = -1\n",
    "    return math.degrees(math.acos(inner))\n",
    "\n",
    "# From https://stackoverflow.com/a/28526156\n",
    "def rot_to_quat(rx, ry, rz):\n",
    "    yaw = math.radians(rx)\n",
    "    pitch = math.radians(ry)\n",
    "    roll = math.radians(rz)\n",
    "    \n",
    "    cy = math.cos(yaw/2)\n",
    "    sy = math.sin(yaw/2)\n",
    "    cp = math.cos(pitch/2)\n",
    "    sp = math.sin(pitch/2)\n",
    "    cr = math.cos(roll/2)\n",
    "    sr = math.sin(roll/2)\n",
    "    \n",
    "    return [\n",
    "        cy*cp*cr + sy*sp*sr,\n",
    "        sy*cp*cr + cy*sp*sr,\n",
    "        cy*sp*cr - sy*cp*sr,\n",
    "        cy*cp*sr - sy*sp*cr,\n",
    "    ]\n",
    "\n",
    "def rot(events):\n",
    "    max_rot = 0\n",
    "    first_event = None\n",
    "    for e in events:\n",
    "        if not first_event:\n",
    "            first_event = e\n",
    "        rot = quat_angle_diff(\n",
    "            rot_to_quat(first_event['rx'], first_event['ry'], first_event['rz']),\n",
    "            rot_to_quat(e['rx'], e['ry'], e['rz']),\n",
    "        )\n",
    "        max_rot = max(rot, max_rot)\n",
    "    return max_rot"
   ]
  },
  {
   "cell_type": "code",
   "execution_count": 33,
   "metadata": {
    "collapsed": true
   },
   "outputs": [],
   "source": [
    "data = [p1_trimmed_data,p2_trimmed_data,p3_trimmed_data,p4_trimmed_data,p5_trimmed_data]\n",
    "\n",
    "def plot_by_key(data, key):\n",
    "    # Ensure we have the expected number for each hand rep\n",
    "    key_counts = defaultdict(int)\n",
    "    for participant_data in data:\n",
    "        for trial_data in participant_data:\n",
    "            key_counts[trial_data[key]] += 1\n",
    "    print(\"Validation:\")\n",
    "    print(key_counts)\n",
    "\n",
    "    rot_by_key = defaultdict(list)\n",
    "    for participant_data in data:\n",
    "        for trial_data in participant_data:\n",
    "            rot_by_key[trial_data[key]].append(rot(trial_data['object_events']))\n",
    "\n",
    "    print(\"\\nBasic Stats:\")\n",
    "    for key, rots in rot_by_key.items():\n",
    "        print(key, \"-  mean\", statistics.mean(rots), \"  median\", statistics.median(rots))\n",
    "\n",
    "    print(\"\\nBox Plots:\")\n",
    "    vals = []\n",
    "    tick_names = []\n",
    "    for i, (key, rots) in enumerate(rot_by_key.items()):\n",
    "        vals.append(rots)\n",
    "        tick_names.append(key)\n",
    "        plt.plot([i] * len(rots), rots, 'x')\n",
    "    plt.boxplot(vals, positions=list(range(len(vals))))\n",
    "    plt.xticks(list(range(len(vals))), tick_names)\n",
    "    pass"
   ]
  },
  {
   "cell_type": "code",
   "execution_count": 34,
   "metadata": {},
   "outputs": [
    {
     "name": "stdout",
     "output_type": "stream",
     "text": [
      "Validation:\n",
      "defaultdict(<class 'int'>, {'p1': 18, 'p2': 18, 'p3': 18, 'p4': 18, 'p5': 18})\n",
      "\n",
      "Basic Stats:\n",
      "p1 -  mean 19.354292303476008   median 13.303009693807539\n",
      "p2 -  mean 11.234324676587782   median 8.70324375397651\n",
      "p3 -  mean 9.954842471006831   median 7.816327822015003\n",
      "p4 -  mean 8.736088272144416   median 6.9078181779822705\n",
      "p5 -  mean 5.036414819384792   median 4.674384212506397\n",
      "\n",
      "Box Plots:\n"
     ]
    },
    {
     "data": {
      "image/png": "[encoded data removed]",
      "text/plain": [
       "<Figure size 432x288 with 1 Axes>"
      ]
     },
     "metadata": {},
     "output_type": "display_data"
    }
   ],
   "source": [
    "plot_by_key(data, 'participant')"
   ]
  },
  {
   "cell_type": "code",
   "execution_count": 35,
   "metadata": {},
   "outputs": [
    {
     "name": "stdout",
     "output_type": "stream",
     "text": [
      "Validation:\n",
      "defaultdict(<class 'int'>, {'puck': 30, 'control': 30, 'static': 30})\n",
      "\n",
      "Basic Stats:\n",
      "puck -  mean 13.370521427598083   median 7.807862755192829\n",
      "control -  mean 9.414659782759154   median 7.528053643338215\n",
      "static -  mean 9.804396315202661   median 7.648946999012836\n",
      "\n",
      "Box Plots:\n"
     ]
    },
    {
     "data": {
      "image/png": "[encoded data removed]",
      "text/plain": [
       "<Figure size 432x288 with 1 Axes>"
      ]
     },
     "metadata": {},
     "output_type": "display_data"
    }
   ],
   "source": [
    "plot_by_key(data, 'hand_rep')"
   ]
  },
  {
   "cell_type": "code",
   "execution_count": 36,
   "metadata": {},
   "outputs": [
    {
     "name": "stdout",
     "output_type": "stream",
     "text": [
      "Validation:\n",
      "defaultdict(<class 'int'>, {'control': 30, 'heatmap': 30, 'shell': 30})\n",
      "\n",
      "Basic Stats:\n",
      "control -  mean 8.744368731418296   median 6.475369331865181\n",
      "heatmap -  mean 11.790372295435947   median 7.865992665997416\n",
      "shell -  mean 12.054836498705653   median 8.755921873839739\n",
      "\n",
      "Box Plots:\n"
     ]
    },
    {
     "data": {
      "image/png": "[encoded data removed]",
      "text/plain": [
       "<Figure size 432x288 with 1 Axes>"
      ]
     },
     "metadata": {},
     "output_type": "display_data"
    }
   ],
   "source": [
    "plot_by_key(data, 'object_rep')"
   ]
  },
  {
   "cell_type": "code",
   "execution_count": 28,
   "metadata": {},
   "outputs": [
    {
     "name": "stdout",
     "output_type": "stream",
     "text": [
      "Validation:\n",
      "defaultdict(<class 'int'>, {'cup': 45, 'controller': 45})\n",
      "\n",
      "Basic Stats:\n",
      "cup -  mean 9.650773504580462   median 6.754692127163618\n",
      "controller -  mean 12.075611512459469   median 7.950906068755583\n",
      "\n",
      "Box Plots:\n"
     ]
    },
    {
     "data": {
      "image/png": "[encoded data removed]",
      "text/plain": [
       "<Figure size 432x288 with 1 Axes>"
      ]
     },
     "metadata": {},
     "output_type": "display_data"
    }
   ],
   "source": [
    "plot_by_key(data, 'object_type')"
   ]
  }
 ],
 "metadata": {
  "kernelspec": {
   "display_name": "Python 3",
   "language": "python",
   "name": "python3"
  },
  "language_info": {
   "codemirror_mode": {
    "name": "ipython",
    "version": 3
   },
   "file_extension": ".py",
   "mimetype": "text/x-python",
   "name": "python",
   "nbconvert_exporter": "python",
   "pygments_lexer": "ipython3",
   "version": "3.6.1"
  }
 },
 "nbformat": 4,
 "nbformat_minor": 2
}
