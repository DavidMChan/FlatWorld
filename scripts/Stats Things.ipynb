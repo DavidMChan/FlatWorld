{
 "cells": [
  {
   "cell_type": "markdown",
   "metadata": {},
   "source": [
    "# User Preferences"
   ]
  },
  {
   "cell_type": "markdown",
   "metadata": {},
   "source": [
    "## Hand Representation"
   ]
  },
  {
   "cell_type": "markdown",
   "metadata": {},
   "source": [
    "We had questions asking participants to rank each representation on a few attributes as well as overall favorite. I'm not sure we really need stats here, as much as X% of participants liked this representation the most."
   ]
  },
  {
   "cell_type": "markdown",
   "metadata": {},
   "source": [
    "**Speed**: 3/5 tracked hands\n",
    "\n",
    "**Safety**: 2/5 tracked hands (slighlty better than 2/5 fixed hands since it has 2 (vs. 0) middle picks)\n",
    "\n",
    "**!Frustration**: 3/5 tracked hands\n",
    "\n",
    "**Confidence**: 3/5 tracked hands\n",
    "\n",
    "**Overall**: 4/5 tracked hands"
   ]
  },
  {
   "cell_type": "markdown",
   "metadata": {},
   "source": [
    "## Object representation"
   ]
  },
  {
   "cell_type": "markdown",
   "metadata": {},
   "source": [
    "**Speed**: 4/5 Precise shape\n",
    "\n",
    "**Safety**: 3/5 Precise shape\n",
    "\n",
    "**!Frustration**: 3/5 bounding sphere\n",
    "\n",
    "**Confidence**: 3/5 bounding sphere\n",
    "\n",
    "**Overall**: 4/5 bounding sphere"
   ]
  },
  {
   "cell_type": "markdown",
   "metadata": {},
   "source": [
    "So why did precise shape do so well? It's probably because of how we worded our question. There was a precise shape inside of every object, so it's unclear if users were saying that it was important to have that, or if they meant the viz with ONLY the precise shape"
   ]
  },
  {
   "cell_type": "markdown",
   "metadata": {},
   "source": [
    "# Coding"
   ]
  },
  {
   "cell_type": "markdown",
   "metadata": {},
   "source": [
    "Let's start by loading in the data that we have"
   ]
  },
  {
   "cell_type": "code",
   "execution_count": 10,
   "metadata": {
    "collapsed": true
   },
   "outputs": [],
   "source": [
    "# Source: https://docs.google.com/spreadsheets/d/1K4mfVILODfUNI5CxG9-PDDl8_fpRDJ4hGOq7V9uSyUs/edit#gid=631091638\n",
    "\n",
    "# Break these down per-user\n",
    "bad_counts_by_hand_rep = {\n",
    "    'fixed': [3,3,4,3,2],\n",
    "    'skeleton': [4,2,3,0,3],\n",
    "    'puck': [7,5,1,2,4],\n",
    "}\n",
    "\n",
    "bad_counts_by_object_rep = {\n",
    "    'plain': [8,4,4,3,4],\n",
    "    'heatmap': [3,3,2,1,4],\n",
    "    'bounding': [3,3,2,1,1],\n",
    "}"
   ]
  },
  {
   "cell_type": "markdown",
   "metadata": {},
   "source": [
    "Great, so let's do some stats on counts of things :)\n",
    "\n",
    "- Independent variable: Nominal\n",
    "- Num of independent variables: 3\n",
    "- Dependent Variable: Counts\n",
    "\n",
    "Kruskal-Wallis H-Test is a good fit"
   ]
  },
  {
   "cell_type": "code",
   "execution_count": 17,
   "metadata": {},
   "outputs": [
    {
     "name": "stdout",
     "output_type": "stream",
     "text": [
      "Hand Reps:\n",
      "KruskalResult(statistic=1.0315789473684178, pvalue=0.5970290697752055)\n",
      "\n",
      "Object Reps:\n",
      "KruskalResult(statistic=7.311999999999997, pvalue=0.02583564891212207)\n"
     ]
    }
   ],
   "source": [
    "from scipy import stats\n",
    "print(\"Hand Reps:\")\n",
    "print(stats.kruskal(*bad_counts_by_hand_rep.values()))\n",
    "\n",
    "\n",
    "print(\"\\nObject Reps:\")\n",
    "print(stats.kruskal(*bad_counts_by_object_rep.values()))\n"
   ]
  },
  {
   "cell_type": "markdown",
   "metadata": {},
   "source": [
    "Whoa, significance for the object representations...cool.\n",
    "To dig deeper:\n",
    "- Independent variable: Nominal\n",
    "- Num of independent variables: 2 (to do pair-wise)\n",
    "- Dependent variable: Counts\n",
    "\n",
    "Let's use Mann-Whitney, our favorite!"
   ]
  },
  {
   "cell_type": "code",
   "execution_count": 20,
   "metadata": {},
   "outputs": [
    {
     "name": "stdout",
     "output_type": "stream",
     "text": [
      "Plain/Heatmap\n",
      "MannwhitneyuResult(statistic=21.5, pvalue=0.04938401175767811)\n",
      "\n",
      "Plain/Bounding\n",
      "MannwhitneyuResult(statistic=24.0, pvalue=0.013488798987627197)\n",
      "\n",
      "Heatmap/Bounding\n",
      "MannwhitneyuResult(statistic=16.5, pvalue=0.380836480306712)\n"
     ]
    }
   ],
   "source": [
    "print(\"Plain/Heatmap\")\n",
    "print(\n",
    "    stats.mannwhitneyu(bad_counts_by_object_rep['plain'], bad_counts_by_object_rep['heatmap'],\n",
    "                       use_continuity=False, alternative='two-sided'))\n",
    "\n",
    "print(\"\\nPlain/Bounding\")\n",
    "print(\n",
    "    stats.mannwhitneyu(bad_counts_by_object_rep['plain'], bad_counts_by_object_rep['bounding'],\n",
    "                       use_continuity=False, alternative='two-sided'))\n",
    "\n",
    "print(\"\\nHeatmap/Bounding\")\n",
    "print(\n",
    "    stats.mannwhitneyu(bad_counts_by_object_rep['heatmap'], bad_counts_by_object_rep['bounding'],\n",
    "                       use_continuity=False, alternative='two-sided'))\n"
   ]
  },
  {
   "cell_type": "markdown",
   "metadata": {},
   "source": [
    "Cool. So error representation is better, but not different from each other. Yay hypothesis confirmation (but only barely)!"
   ]
  },
  {
   "cell_type": "markdown",
   "metadata": {},
   "source": [
    "# Grasp Timing"
   ]
  },
  {
   "cell_type": "markdown",
   "metadata": {},
   "source": [
    "Let's start with the data again"
   ]
  },
  {
   "cell_type": "code",
   "execution_count": 25,
   "metadata": {},
   "outputs": [],
   "source": [
    "# Source: https://docs.google.com/spreadsheets/d/1_E0s30HvqRLWN2ODJR_iCXBjD6iNI-oh4HA9liioYbg/edit#gid=314731036\n",
    "\n",
    "time_by_hand_rep = {\n",
    "    'fixed': [1.17,1.80,0.93,1.10,1.97,2.47,1.58,1.41,1.41,1.79,2.36,1.28,1.84,1.47,3.44,3.07,1.53,2.00,1.03,1.87,1.97,1.57,1.10,0.90,2.47,3.10,1.60,3.10,3.54,2.84],\n",
    "    'skeleton': [1.07,0.73,1.10,2.67,1.47,3.77,2.32,1.38,1.25,1.31,1.31,1.52,1.30,1.57,1.20,1.33,1.23,1.23,1.97,1.07,0.83,1.00,0.97,0.93,3.44,2.40,1.84,2.57,2.00,2.07],\n",
    "    'puck': [1.43,1.00,1.03,2.27,2.07,3.37,1.11,1.08,1.58,2.63,2.19,2.46,1.23,1.20,1.47,1.97,1.20,1.43,1.87,1.07,0.93,0.90,0.90,0.83,2.60,1.67,2.07,2.50,1.94,2.14],\n",
    "}\n",
    "\n",
    "time_by_object_rep = {\n",
    "    'plain': [1.43,2.27,1.07,2.67,1.17,1.10,1.25,1.52,1.41,1.28,1.58,2.46,3.44,2.00,1.20,1.23,1.47,1.43,1.97,1.00,1.87,0.90,1.03,1.57,3.10,3.54,2.40,2.00,1.67,1.94],\n",
    "    'heatmap': [1.00,2.07,0.73,1.47,1.80,1.97,1.38,1.31,1.41,2.36,1.08,2.19,1.84,3.07,1.30,1.33,1.23,1.97,1.07,0.97,1.07,0.90,1.87,1.10,2.47,3.10,3.44,2.57,2.60,2.50],\n",
    "    'bounding': [1.03,3.37,1.10,3.77,0.93,2.47,2.32,1.31,1.58,1.79,1.11,2.63,1.47,1.53,1.57,1.23,1.20,1.20,0.83,0.93,0.93,0.83,1.97,0.90,1.60,2.84,1.84,2.07,2.07,2.14],\n",
    "}"
   ]
  },
  {
   "cell_type": "markdown",
   "metadata": {},
   "source": [
    "Cool, so let's do some stats!\n",
    "\n",
    "- Independent variable: Nominal\n",
    "- Num of independent variables: 3\n",
    "- Dependent Variable: Continuous\n",
    "\n",
    "Kruskal-Wallis H-Test again"
   ]
  },
  {
   "cell_type": "code",
   "execution_count": 26,
   "metadata": {},
   "outputs": [
    {
     "name": "stdout",
     "output_type": "stream",
     "text": [
      "Hand Reps:\n",
      "KruskalResult(statistic=3.012841797813255, pvalue=0.22170205371709642)\n",
      "\n",
      "Object Reps:\n",
      "KruskalResult(statistic=0.48009920749301316, pvalue=0.7865888423452835)\n"
     ]
    }
   ],
   "source": [
    "print(\"Hand Reps:\")\n",
    "print(stats.kruskal(*time_by_hand_rep.values()))\n",
    "\n",
    "\n",
    "print(\"\\nObject Reps:\")\n",
    "print(stats.kruskal(*time_by_object_rep.values()))\n"
   ]
  },
  {
   "cell_type": "markdown",
   "metadata": {},
   "source": [
    "No significance here :/ Let's move on"
   ]
  },
  {
   "cell_type": "markdown",
   "metadata": {},
   "source": [
    "# Grasp Stability"
   ]
  },
  {
   "cell_type": "markdown",
   "metadata": {},
   "source": [
    "Load in the data"
   ]
  },
  {
   "cell_type": "code",
   "execution_count": 34,
   "metadata": {},
   "outputs": [
    {
     "name": "stdout",
     "output_type": "stream",
     "text": [
      "['start_time', 'object_events', 'end_time', 'start_i', 'hand_rep', 'object_type', 'object_rep', 'participant']\n",
      "57\n",
      "91\n"
     ]
    }
   ],
   "source": [
    "import pickle\n",
    "\n",
    "# File courtesy of David.\n",
    "with open('data_trimmed.pkl', 'rb') as pkl:\n",
    "    data = pickle.load(pkl)\n",
    "\n",
    "print(list(data[0][0].keys()))"
   ]
  },
  {
   "cell_type": "markdown",
   "metadata": {},
   "source": [
    "Let's add some metadata to each trial to make analysis easy. This will make this structure totally unwieldy, but that's ok since it won't be used by anything else *knocks on wood*"
   ]
  },
  {
   "cell_type": "code",
   "execution_count": 37,
   "metadata": {
    "collapsed": true
   },
   "outputs": [],
   "source": [
    "import math\n",
    "\n",
    "# Distance stuff.\n",
    "def xz_distance(events):\n",
    "    total_dist = 0\n",
    "    for i in range(1, len(events)):\n",
    "        last_event = events[i-1]\n",
    "        curr_event = events[i]\n",
    "        delta_x = curr_event['x'] - last_event['x']\n",
    "        delta_z = curr_event['z'] - last_event['z']\n",
    "        total_dist += math.sqrt(delta_x**2 + delta_z**2)\n",
    "    return total_dist\n",
    "\n",
    "def dot_product(v1, v2):\n",
    "    return sum(i[0] * i[1] for i in zip(v1, v2))\n",
    "\n",
    "\n",
    "# Tilt stuff.\n",
    "# Based on https://math.stackexchange.com/questions/90081/quaternion-distance\n",
    "def quat_angle_diff(q1, q2):\n",
    "    inner = 2*(dot_product(q1, q2)**2) - 1\n",
    "    if inner > 1:\n",
    "        inner = 1\n",
    "    if inner < -1:\n",
    "        inner = -1\n",
    "    return math.degrees(math.acos(inner))\n",
    "\n",
    "# From https://stackoverflow.com/a/28526156\n",
    "def rot_to_quat(rx, ry, rz):\n",
    "    yaw = math.radians(rx)\n",
    "    pitch = math.radians(ry)\n",
    "    roll = math.radians(rz)\n",
    "    \n",
    "    cy = math.cos(yaw/2)\n",
    "    sy = math.sin(yaw/2)\n",
    "    cp = math.cos(pitch/2)\n",
    "    sp = math.sin(pitch/2)\n",
    "    cr = math.cos(roll/2)\n",
    "    sr = math.sin(roll/2)\n",
    "    \n",
    "    return [\n",
    "        cy*cp*cr + sy*sp*sr,\n",
    "        sy*cp*cr + cy*sp*sr,\n",
    "        cy*sp*cr - sy*cp*sr,\n",
    "        cy*cp*sr - sy*sp*cr,\n",
    "    ]\n",
    "\n",
    "def max_tilt(events):\n",
    "    max_rot = 0\n",
    "    first_event = events[0]\n",
    "    for e in events[1:]:\n",
    "        rot = quat_angle_diff(\n",
    "            rot_to_quat(first_event['rx'], first_event['ry'], first_event['rz']),\n",
    "            rot_to_quat(e['rx'], e['ry'], e['rz']),\n",
    "        )\n",
    "        max_rot = max(rot, max_rot)\n",
    "    return max_rot"
   ]
  },
  {
   "cell_type": "code",
   "execution_count": 40,
   "metadata": {},
   "outputs": [
    {
     "name": "stdout",
     "output_type": "stream",
     "text": [
      "0.031502944395969075\n",
      "7.062088968463386\n"
     ]
    }
   ],
   "source": [
    "for participant_data in data:\n",
    "    for trial in participant_data:\n",
    "        trial['xz_dist'] = xz_distance(trial['object_events'])\n",
    "        trial['max_tilt'] = max_tilt(trial['object_events'])\n",
    "        \n",
    "print(data[0][0]['xz_dist'])\n",
    "print(data[0][0]['max_tilt'])"
   ]
  },
  {
   "cell_type": "markdown",
   "metadata": {},
   "source": [
    "Cool, so let's do some stats!\n",
    "\n",
    "- Independent variable: Nominal\n",
    "- Num of independent variables: 3\n",
    "- Dependent Variable: Continuous\n",
    "\n",
    "Kruskal-Wallis H-Test again, I guess?"
   ]
  },
  {
   "cell_type": "code",
   "execution_count": 43,
   "metadata": {},
   "outputs": [],
   "source": [
    "xz_dist_by_hand_rep = {'fixed': [], 'skeleton': [], 'puck': []}\n",
    "max_tilt_by_hand_rep = {'fixed': [], 'skeleton': [], 'puck': []}\n",
    "xz_dist_by_object_rep = {'plain': [], 'heatmap': [], 'bounding': []}\n",
    "max_tilt_by_object_rep = {'plain': [], 'heatmap': [], 'bounding': []}\n",
    "\n",
    "# static, control, puck\n",
    "# control, heatmap, shell\n",
    "hand_rep_map = {'static': 'fixed', 'control': 'skeleton', 'puck': 'puck'}\n",
    "object_rep_map = {'control': 'plain', 'heatmap': 'heatmap', 'shell': 'bounding'}\n",
    "\n",
    "for participant_data in data:\n",
    "    for trial in participant_data:\n",
    "        xz_dist_by_hand_rep[hand_rep_map[trial['hand_rep']]].append(trial['xz_dist'])\n",
    "        max_tilt_by_hand_rep[hand_rep_map[trial['hand_rep']]].append(trial['max_tilt'])\n",
    "        xz_dist_by_object_rep[object_rep_map[trial['object_rep']]].append(trial['xz_dist'])\n",
    "        max_tilt_by_object_rep[object_rep_map[trial['object_rep']]].append(trial['max_tilt'])"
   ]
  },
  {
   "cell_type": "code",
   "execution_count": 45,
   "metadata": {},
   "outputs": [
    {
     "name": "stdout",
     "output_type": "stream",
     "text": [
      "Hand Reps:\n",
      "dist: KruskalResult(statistic=5.018412698412703, pvalue=0.08133276344491962)\n",
      "tilt: KruskalResult(statistic=0.581098901098926, pvalue=0.7478525466783862)\n",
      "\n",
      "Object Reps:\n",
      "dist: KruskalResult(statistic=0.3832967032967076, pvalue=0.8255971373248769)\n",
      "tilt: KruskalResult(statistic=6.074529914529933, pvalue=0.04796589903787332)\n"
     ]
    }
   ],
   "source": [
    "print(\"Hand Reps:\")\n",
    "print(\"dist: \", end='')\n",
    "print(stats.kruskal(*xz_dist_by_hand_rep.values()))\n",
    "print(\"tilt: \", end='')\n",
    "print(stats.kruskal(*max_tilt_by_hand_rep.values()))\n",
    "\n",
    "\n",
    "print(\"\\nObject Reps:\")\n",
    "print(\"dist: \", end='')\n",
    "print(stats.kruskal(*xz_dist_by_object_rep.values()))\n",
    "print(\"tilt: \", end='')\n",
    "print(stats.kruskal(*max_tilt_by_object_rep.values()))"
   ]
  },
  {
   "cell_type": "markdown",
   "metadata": {},
   "source": [
    "Yay, significance for something (but barely)! Max tilt based on object rep showed something.\n",
    "\n",
    "Next up, Mann-Whitney"
   ]
  },
  {
   "cell_type": "code",
   "execution_count": 46,
   "metadata": {},
   "outputs": [
    {
     "name": "stdout",
     "output_type": "stream",
     "text": [
      "Plain/Heatmap\n",
      "MannwhitneyuResult(statistic=339.0, pvalue=0.10078263179832223)\n",
      "\n",
      "Plain/Bounding\n",
      "MannwhitneyuResult(statistic=283.0, pvalue=0.013549158006559415)\n",
      "\n",
      "Heatmap/Bounding\n",
      "MannwhitneyuResult(statistic=413.0, pvalue=0.5843624220907104)\n"
     ]
    }
   ],
   "source": [
    "print(\"Plain/Heatmap\")\n",
    "print(\n",
    "    stats.mannwhitneyu(max_tilt_by_object_rep['plain'], max_tilt_by_object_rep['heatmap'],\n",
    "                       use_continuity=False, alternative='two-sided'))\n",
    "\n",
    "print(\"\\nPlain/Bounding\")\n",
    "print(\n",
    "    stats.mannwhitneyu(max_tilt_by_object_rep['plain'], max_tilt_by_object_rep['bounding'],\n",
    "                       use_continuity=False, alternative='two-sided'))\n",
    "\n",
    "print(\"\\nHeatmap/Bounding\")\n",
    "print(\n",
    "    stats.mannwhitneyu(max_tilt_by_object_rep['heatmap'], max_tilt_by_object_rep['bounding'],\n",
    "                       use_continuity=False, alternative='two-sided'))"
   ]
  },
  {
   "cell_type": "markdown",
   "metadata": {},
   "source": [
    "Yay, significance for something! The bounding box resulted in significantly different tilt than the plain condition. But what direction?"
   ]
  },
  {
   "cell_type": "code",
   "execution_count": 47,
   "metadata": {},
   "outputs": [
    {
     "name": "stdout",
     "output_type": "stream",
     "text": [
      "Avg. max tilt for Plain: 8.744368731418296\n",
      "Avg. max tilt for Bounding: 12.054836498705653\n"
     ]
    }
   ],
   "source": [
    "import statistics\n",
    "print(\"Avg. max tilt for Plain: \", end='')\n",
    "print(statistics.mean(max_tilt_by_object_rep['plain']))\n",
    "\n",
    "print(\"Avg. max tilt for Bounding: \", end='')\n",
    "print(statistics.mean(max_tilt_by_object_rep['bounding']))"
   ]
  },
  {
   "cell_type": "markdown",
   "metadata": {},
   "source": [
    "Huh...I guess Plain was better at not tilting the objects...weird"
   ]
  }
 ],
 "metadata": {
  "kernelspec": {
   "display_name": "Python 3",
   "language": "python",
   "name": "python3"
  },
  "language_info": {
   "codemirror_mode": {
    "name": "ipython",
    "version": 3
   },
   "file_extension": ".py",
   "mimetype": "text/x-python",
   "name": "python",
   "nbconvert_exporter": "python",
   "pygments_lexer": "ipython3",
   "version": "3.6.1"
  }
 },
 "nbformat": 4,
 "nbformat_minor": 2
}
